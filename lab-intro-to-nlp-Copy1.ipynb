{
 "cells": [
  {
   "cell_type": "markdown",
   "metadata": {},
   "source": [
    "# Intro to NLP Lab\n",
    "\n",
    "In this lab, you'll be classifying randomly selected tweets from political officials into whether or not they are partisan tweets or neutral. In the following import statement, we're selecting only the columns that are important, but there may be more useful features in that set. Feel free to explore. "
   ]
  },
  {
   "cell_type": "code",
   "execution_count": 55,
   "metadata": {
    "collapsed": true
   },
   "outputs": [],
   "source": [
    "import pandas as pd\n",
    "import matplotlib.pyplot as plt\n",
    "%matplotlib inline\n",
    "\n",
    "from sklearn.model_selection import train_test_split\n",
    "from sklearn.feature_extraction.text import CountVectorizer, TfidfVectorizer\n",
    "from sklearn.ensemble import RandomForestClassifier\n",
    "from sklearn.metrics import confusion_matrix, classification_report\n",
    "from sklearn.decomposition import TruncatedSVD"
   ]
  },
  {
   "cell_type": "code",
   "execution_count": 7,
   "metadata": {},
   "outputs": [
    {
     "data": {
      "text/html": [
       "<div>\n",
       "<style>\n",
       "    .dataframe thead tr:only-child th {\n",
       "        text-align: right;\n",
       "    }\n",
       "\n",
       "    .dataframe thead th {\n",
       "        text-align: left;\n",
       "    }\n",
       "\n",
       "    .dataframe tbody tr th {\n",
       "        vertical-align: top;\n",
       "    }\n",
       "</style>\n",
       "<table border=\"1\" class=\"dataframe\">\n",
       "  <thead>\n",
       "    <tr style=\"text-align: right;\">\n",
       "      <th></th>\n",
       "      <th>bias</th>\n",
       "      <th>text</th>\n",
       "    </tr>\n",
       "  </thead>\n",
       "  <tbody>\n",
       "    <tr>\n",
       "      <th>0</th>\n",
       "      <td>partisan</td>\n",
       "      <td>RT @nowthisnews: Rep. Trey Radel (R- #FL) slam...</td>\n",
       "    </tr>\n",
       "    <tr>\n",
       "      <th>1</th>\n",
       "      <td>partisan</td>\n",
       "      <td>VIDEO - #Obamacare:  Full of Higher Costs and ...</td>\n",
       "    </tr>\n",
       "    <tr>\n",
       "      <th>2</th>\n",
       "      <td>neutral</td>\n",
       "      <td>Please join me today in remembering our fallen...</td>\n",
       "    </tr>\n",
       "    <tr>\n",
       "      <th>3</th>\n",
       "      <td>neutral</td>\n",
       "      <td>RT @SenatorLeahy: 1st step toward Senate debat...</td>\n",
       "    </tr>\n",
       "    <tr>\n",
       "      <th>4</th>\n",
       "      <td>partisan</td>\n",
       "      <td>.@amazon delivery #drones show need to update ...</td>\n",
       "    </tr>\n",
       "  </tbody>\n",
       "</table>\n",
       "</div>"
      ],
      "text/plain": [
       "       bias                                               text\n",
       "0  partisan  RT @nowthisnews: Rep. Trey Radel (R- #FL) slam...\n",
       "1  partisan  VIDEO - #Obamacare:  Full of Higher Costs and ...\n",
       "2   neutral  Please join me today in remembering our fallen...\n",
       "3   neutral  RT @SenatorLeahy: 1st step toward Senate debat...\n",
       "4  partisan  .@amazon delivery #drones show need to update ..."
      ]
     },
     "execution_count": 7,
     "metadata": {},
     "output_type": "execute_result"
    }
   ],
   "source": [
    "# Load data\n",
    "df = pd.read_csv('datasets/political_media.csv',\n",
    "                usecols=[7, 20])\n",
    "df.head()"
   ]
  },
  {
   "cell_type": "markdown",
   "metadata": {},
   "source": [
    "## Set up\n",
    "\n",
    "Please split the dataset into a training and test set and convert the `bias` feature into 0s and 1s."
   ]
  },
  {
   "cell_type": "code",
   "execution_count": 8,
   "metadata": {
    "collapsed": true
   },
   "outputs": [],
   "source": [
    "# Convert bias to 0s and 1s\n",
    "df['bias'] = df['bias'].apply(lambda x: 1 if x == 'partisan' else 0)"
   ]
  },
  {
   "cell_type": "code",
   "execution_count": 9,
   "metadata": {},
   "outputs": [],
   "source": [
    "# Train-test split: X is text, y is bias\n",
    "X_train, X_test, y_train, y_test = train_test_split(df['text'].values, df['bias'].values)"
   ]
  },
  {
   "cell_type": "markdown",
   "metadata": {},
   "source": [
    "## Modeling\n",
    "\n",
    "Please try the following techniques to transform the data. For each technique, do the following:\n",
    "\n",
    "1. Transform the training data\n",
    "2. Fit a `RandomForestClassifier` to the transformed training data\n",
    "3. Transform the test data\n",
    "4. Discuss the goodness of fit of your model using the test data and a classification report and confusion matrix"
   ]
  },
  {
   "cell_type": "markdown",
   "metadata": {},
   "source": [
    "### 1. `CountVectorizer()`"
   ]
  },
  {
   "cell_type": "code",
   "execution_count": 27,
   "metadata": {},
   "outputs": [
    {
     "name": "stdout",
     "output_type": "stream",
     "text": [
      "X_train_cv shape:  (3750, 15352)\n"
     ]
    }
   ],
   "source": [
    "# Transform training data\n",
    "cv = CountVectorizer()\n",
    "\n",
    "cv.fit(X_train)\n",
    "X_train_cv = cv.transform(X_train)\n",
    "print('X_train_cv shape: ', X_train_cv.shape)"
   ]
  },
  {
   "cell_type": "code",
   "execution_count": 28,
   "metadata": {
    "scrolled": true
   },
   "outputs": [
    {
     "data": {
      "text/plain": [
       "RandomForestClassifier(bootstrap=True, class_weight=None, criterion='gini',\n",
       "            max_depth=None, max_features='auto', max_leaf_nodes=None,\n",
       "            min_impurity_decrease=0.0, min_impurity_split=None,\n",
       "            min_samples_leaf=1, min_samples_split=2,\n",
       "            min_weight_fraction_leaf=0.0, n_estimators=10, n_jobs=1,\n",
       "            oob_score=False, random_state=None, verbose=0,\n",
       "            warm_start=False)"
      ]
     },
     "execution_count": 28,
     "metadata": {},
     "output_type": "execute_result"
    }
   ],
   "source": [
    "# Fit RandomForestClassifier\n",
    "rfc = RandomForestClassifier()\n",
    "rfc.fit(X_train_cv, y_train)"
   ]
  },
  {
   "cell_type": "code",
   "execution_count": 29,
   "metadata": {},
   "outputs": [
    {
     "name": "stdout",
     "output_type": "stream",
     "text": [
      "X_test_cv shape:  (1250, 15352)\n"
     ]
    }
   ],
   "source": [
    "# Transform test data\n",
    "X_test_cv = cv.transform(X_test)\n",
    "print('X_test_cv shape: ', X_test_cv.shape)"
   ]
  },
  {
   "cell_type": "code",
   "execution_count": 32,
   "metadata": {},
   "outputs": [
    {
     "name": "stdout",
     "output_type": "stream",
     "text": [
      "RFC score:  0.7632\n",
      "\n",
      "Confusion matrix: \n",
      "[[905  31]\n",
      " [265  49]]\n",
      "\n",
      "Classification report: \n",
      "             precision    recall  f1-score   support\n",
      "\n",
      "          0       0.77      0.97      0.86       936\n",
      "          1       0.61      0.16      0.25       314\n",
      "\n",
      "avg / total       0.73      0.76      0.71      1250\n",
      "\n"
     ]
    }
   ],
   "source": [
    "# Assess goodness of fit\n",
    "predictions = rfc.predict(X_test_cv)\n",
    "\n",
    "rfc_score = rfc.score(X_test_cv, y_test)\n",
    "conf_mat = confusion_matrix(y_test, predictions)\n",
    "class_rep = classification_report(y_test, predictions)\n",
    "print('RFC score: ', rfc_score)\n",
    "print('')\n",
    "print('Confusion matrix: ')\n",
    "print(conf_mat)\n",
    "print('')\n",
    "print('Classification report: ')\n",
    "print(class_rep)\n",
    "\n",
    "# overall accuracy is 76%\n",
    "# Precision on neutral tweets is 0.77 - we're misclassifying 23% of neutral tweets as partisan\n",
    "# Recall on partisan tweets is low at 0.16 - we're misclassifying 84% of partisan tweets as neutral\n",
    "\n",
    "\n",
    "# Reminder on terms:\n",
    "# Precision is the ability of the classifier not to label as positive a sample that is negative -> tp / (tp + fp)\n",
    "# Recall is the ability of the classifier to find the positive samples -> tp / (tp + fn)\n",
    "# F-beta score is weighted harmonic mean of the precision and recall. Best value = 1 and worst value = 0"
   ]
  },
  {
   "cell_type": "markdown",
   "metadata": {},
   "source": [
    "### 2. `CountVectorizer()` with your choice of `min_df` and `max_df`"
   ]
  },
  {
   "cell_type": "code",
   "execution_count": 33,
   "metadata": {},
   "outputs": [
    {
     "name": "stdout",
     "output_type": "stream",
     "text": [
      "X_train_cv_mm shape:  (3750, 27)\n"
     ]
    }
   ],
   "source": [
    "# Transform training data\n",
    "cv_mm = CountVectorizer(min_df=0.10, max_df=0.90)\n",
    "\n",
    "cv_mm.fit(X_train)\n",
    "X_train_cv_mm = cv_mm.transform(X_train)\n",
    "print('X_train_cv_mm shape: ', X_train_cv_mm.shape)"
   ]
  },
  {
   "cell_type": "code",
   "execution_count": 34,
   "metadata": {},
   "outputs": [
    {
     "data": {
      "text/plain": [
       "RandomForestClassifier(bootstrap=True, class_weight=None, criterion='gini',\n",
       "            max_depth=None, max_features='auto', max_leaf_nodes=None,\n",
       "            min_impurity_decrease=0.0, min_impurity_split=None,\n",
       "            min_samples_leaf=1, min_samples_split=2,\n",
       "            min_weight_fraction_leaf=0.0, n_estimators=10, n_jobs=1,\n",
       "            oob_score=False, random_state=None, verbose=0,\n",
       "            warm_start=False)"
      ]
     },
     "execution_count": 34,
     "metadata": {},
     "output_type": "execute_result"
    }
   ],
   "source": [
    "# Fit RandomForestClassifier\n",
    "rfc = RandomForestClassifier()\n",
    "rfc.fit(X_train_cv_mm, y_train)"
   ]
  },
  {
   "cell_type": "code",
   "execution_count": 35,
   "metadata": {},
   "outputs": [
    {
     "name": "stdout",
     "output_type": "stream",
     "text": [
      "X_test_cv_mm shape:  (1250, 27)\n"
     ]
    }
   ],
   "source": [
    "# Transform test data\n",
    "X_test_cv_mm = cv_mm.transform(X_test)\n",
    "print('X_test_cv_mm shape: ', X_test_cv_mm.shape)"
   ]
  },
  {
   "cell_type": "code",
   "execution_count": 36,
   "metadata": {},
   "outputs": [
    {
     "name": "stdout",
     "output_type": "stream",
     "text": [
      "RFC score:  0.7272\n",
      "\n",
      "Confusion matrix: \n",
      "[[868  68]\n",
      " [273  41]]\n",
      "\n",
      "Classification report: \n",
      "             precision    recall  f1-score   support\n",
      "\n",
      "          0       0.76      0.93      0.84       936\n",
      "          1       0.38      0.13      0.19       314\n",
      "\n",
      "avg / total       0.66      0.73      0.67      1250\n",
      "\n"
     ]
    }
   ],
   "source": [
    "# Assess goodness of fit\n",
    "predictions_mm = rfc.predict(X_test_cv_mm)\n",
    "\n",
    "rfc_score_mm = rfc.score(X_test_cv_mm, y_test)\n",
    "conf_mat_mm = confusion_matrix(y_test, predictions_mm)\n",
    "class_rep_mm = classification_report(y_test, predictions_mm)\n",
    "print('RFC score: ', rfc_score_mm)\n",
    "print('')\n",
    "print('Confusion matrix: ')\n",
    "print(conf_mat_mm)\n",
    "print('')\n",
    "print('Classification report: ')\n",
    "print(class_rep_mm)\n",
    "\n",
    "# overall accuracy is 72%\n",
    "# Precision on neutral tweets is 0.76 - 24% of neutral tweets are misclassified as partisan\n",
    "# Recall on partisan tweets is 0.13 - 87% of partisan tweets are misclassified as neutral"
   ]
  },
  {
   "cell_type": "markdown",
   "metadata": {},
   "source": [
    "### 3. `CountVectorizer()` with English stop words"
   ]
  },
  {
   "cell_type": "code",
   "execution_count": 37,
   "metadata": {},
   "outputs": [
    {
     "name": "stdout",
     "output_type": "stream",
     "text": [
      "X_train_cv_sw shape:  (3750, 15087)\n"
     ]
    }
   ],
   "source": [
    "# Transform training data\n",
    "cv_sw = CountVectorizer(stop_words='english')\n",
    "\n",
    "cv_sw.fit(X_train)\n",
    "X_train_cv_sw = cv_sw.transform(X_train)\n",
    "print('X_train_cv_sw shape: ', X_train_cv_sw.shape)"
   ]
  },
  {
   "cell_type": "code",
   "execution_count": 38,
   "metadata": {},
   "outputs": [
    {
     "data": {
      "text/plain": [
       "RandomForestClassifier(bootstrap=True, class_weight=None, criterion='gini',\n",
       "            max_depth=None, max_features='auto', max_leaf_nodes=None,\n",
       "            min_impurity_decrease=0.0, min_impurity_split=None,\n",
       "            min_samples_leaf=1, min_samples_split=2,\n",
       "            min_weight_fraction_leaf=0.0, n_estimators=10, n_jobs=1,\n",
       "            oob_score=False, random_state=None, verbose=0,\n",
       "            warm_start=False)"
      ]
     },
     "execution_count": 38,
     "metadata": {},
     "output_type": "execute_result"
    }
   ],
   "source": [
    "# Fit RandomForestClassifier\n",
    "rfc = RandomForestClassifier()\n",
    "rfc.fit(X_train_cv_sw, y_train)"
   ]
  },
  {
   "cell_type": "code",
   "execution_count": 39,
   "metadata": {},
   "outputs": [
    {
     "name": "stdout",
     "output_type": "stream",
     "text": [
      "X_test_cv_sw shape:  (1250, 15087)\n"
     ]
    }
   ],
   "source": [
    "# Transform test data\n",
    "X_test_cv_sw = cv_sw.transform(X_test)\n",
    "print('X_test_cv_sw shape: ', X_test_cv_sw.shape)"
   ]
  },
  {
   "cell_type": "code",
   "execution_count": 40,
   "metadata": {},
   "outputs": [
    {
     "name": "stdout",
     "output_type": "stream",
     "text": [
      "RFC score:  0.7664\n",
      "\n",
      "Confusion matrix: \n",
      "[[866  70]\n",
      " [222  92]]\n",
      "\n",
      "Classification report: \n",
      "             precision    recall  f1-score   support\n",
      "\n",
      "          0       0.80      0.93      0.86       936\n",
      "          1       0.57      0.29      0.39       314\n",
      "\n",
      "avg / total       0.74      0.77      0.74      1250\n",
      "\n"
     ]
    }
   ],
   "source": [
    "# Assess goodness of fit\n",
    "predictions_sw = rfc.predict(X_test_cv_sw)\n",
    "\n",
    "rfc_score_sw = rfc.score(X_test_cv_sw, y_test)\n",
    "conf_mat_sw = confusion_matrix(y_test, predictions_sw)\n",
    "class_rep_sw = classification_report(y_test, predictions_sw)\n",
    "print('RFC score: ', rfc_score_sw)\n",
    "print('')\n",
    "print('Confusion matrix: ')\n",
    "print(conf_mat_sw)\n",
    "print('')\n",
    "print('Classification report: ')\n",
    "print(class_rep_sw)\n",
    "\n",
    "# overall accuracy is 77%\n",
    "# Precision on partisan tweets is 0.80 - 20% of neutral tweets are misclassified as partisan\n",
    "# Recall on partisan tweets is 0.29 - 71% of partisan tweets are misclassified as neutral"
   ]
  },
  {
   "cell_type": "markdown",
   "metadata": {},
   "source": [
    "### 4. `TfidfVectorizer()` "
   ]
  },
  {
   "cell_type": "code",
   "execution_count": 41,
   "metadata": {},
   "outputs": [
    {
     "name": "stdout",
     "output_type": "stream",
     "text": [
      "X_train_tf shape:  (3750, 15352)\n"
     ]
    }
   ],
   "source": [
    "# Transform training data\n",
    "tfidf = TfidfVectorizer()\n",
    "\n",
    "tfidf.fit(X_train)\n",
    "X_train_tf = tfidf.transform(X_train)\n",
    "print('X_train_tf shape: ', X_train_tf.shape)"
   ]
  },
  {
   "cell_type": "code",
   "execution_count": 42,
   "metadata": {},
   "outputs": [
    {
     "data": {
      "text/plain": [
       "RandomForestClassifier(bootstrap=True, class_weight=None, criterion='gini',\n",
       "            max_depth=None, max_features='auto', max_leaf_nodes=None,\n",
       "            min_impurity_decrease=0.0, min_impurity_split=None,\n",
       "            min_samples_leaf=1, min_samples_split=2,\n",
       "            min_weight_fraction_leaf=0.0, n_estimators=10, n_jobs=1,\n",
       "            oob_score=False, random_state=None, verbose=0,\n",
       "            warm_start=False)"
      ]
     },
     "execution_count": 42,
     "metadata": {},
     "output_type": "execute_result"
    }
   ],
   "source": [
    "# Fit RandomForestClassifier\n",
    "rfc = RandomForestClassifier()\n",
    "rfc.fit(X_train_tf, y_train)"
   ]
  },
  {
   "cell_type": "code",
   "execution_count": 43,
   "metadata": {},
   "outputs": [
    {
     "name": "stdout",
     "output_type": "stream",
     "text": [
      "X_test_tf shape:  (1250, 15352)\n"
     ]
    }
   ],
   "source": [
    "# Transform test data\n",
    "X_test_tf = tfidf.transform(X_test)\n",
    "print('X_test_tf shape: ', X_test_tf.shape)"
   ]
  },
  {
   "cell_type": "code",
   "execution_count": 44,
   "metadata": {},
   "outputs": [
    {
     "name": "stdout",
     "output_type": "stream",
     "text": [
      "RFC score:  0.7488\n",
      "\n",
      "Confusion matrix: \n",
      "[[879  57]\n",
      " [257  57]]\n",
      "\n",
      "Classification report: \n",
      "             precision    recall  f1-score   support\n",
      "\n",
      "          0       0.77      0.94      0.85       936\n",
      "          1       0.50      0.18      0.27       314\n",
      "\n",
      "avg / total       0.70      0.75      0.70      1250\n",
      "\n"
     ]
    }
   ],
   "source": [
    "# Assess goodness of fit\n",
    "predictions_tf = rfc.predict(X_test_tf)\n",
    "\n",
    "rfc_score_tf = rfc.score(X_test_tf, y_test)\n",
    "conf_mat_tf = confusion_matrix(y_test, predictions_tf)\n",
    "class_rep_tf = classification_report(y_test, predictions_tf)\n",
    "print('RFC score: ', rfc_score_tf)\n",
    "print('')\n",
    "print('Confusion matrix: ')\n",
    "print(conf_mat_tf)\n",
    "print('')\n",
    "print('Classification report: ')\n",
    "print(class_rep_tf)\n",
    "\n",
    "# overall accuracy is 75%\n",
    "# Precision on partisan tweets is 0.77 - 23% of neutral tweets are misclassified as partisan\n",
    "# Recall on partisan tweets is 0.18 - 82% of partisan tweets are misclassified as neutral"
   ]
  },
  {
   "cell_type": "markdown",
   "metadata": {},
   "source": [
    "### 5. `TfidfVectorizer()` with English stop words"
   ]
  },
  {
   "cell_type": "code",
   "execution_count": 45,
   "metadata": {},
   "outputs": [
    {
     "name": "stdout",
     "output_type": "stream",
     "text": [
      "X_train_tf_sw shape:  (3750, 15087)\n"
     ]
    }
   ],
   "source": [
    "# Transform training data\n",
    "tfidf_sw = TfidfVectorizer(stop_words='english')\n",
    "\n",
    "tfidf_sw.fit(X_train)\n",
    "X_train_tf_sw = tfidf_sw.transform(X_train)\n",
    "print('X_train_tf_sw shape: ', X_train_tf_sw.shape)"
   ]
  },
  {
   "cell_type": "code",
   "execution_count": 46,
   "metadata": {},
   "outputs": [
    {
     "data": {
      "text/plain": [
       "RandomForestClassifier(bootstrap=True, class_weight=None, criterion='gini',\n",
       "            max_depth=None, max_features='auto', max_leaf_nodes=None,\n",
       "            min_impurity_decrease=0.0, min_impurity_split=None,\n",
       "            min_samples_leaf=1, min_samples_split=2,\n",
       "            min_weight_fraction_leaf=0.0, n_estimators=10, n_jobs=1,\n",
       "            oob_score=False, random_state=None, verbose=0,\n",
       "            warm_start=False)"
      ]
     },
     "execution_count": 46,
     "metadata": {},
     "output_type": "execute_result"
    }
   ],
   "source": [
    "# Fit RandomForestClassifier\n",
    "rfc = RandomForestClassifier()\n",
    "rfc.fit(X_train_tf_sw, y_train)"
   ]
  },
  {
   "cell_type": "code",
   "execution_count": 47,
   "metadata": {},
   "outputs": [
    {
     "name": "stdout",
     "output_type": "stream",
     "text": [
      "X_test_tf_sw shape:  (1250, 15087)\n"
     ]
    }
   ],
   "source": [
    "# Transform test data\n",
    "X_test_tf_sw = tfidf_sw.transform(X_test)\n",
    "print('X_test_tf_sw shape: ', X_test_tf_sw.shape)"
   ]
  },
  {
   "cell_type": "code",
   "execution_count": 48,
   "metadata": {},
   "outputs": [
    {
     "name": "stdout",
     "output_type": "stream",
     "text": [
      "RFC score:  0.7584\n",
      "\n",
      "Confusion matrix: \n",
      "[[859  77]\n",
      " [225  89]]\n",
      "\n",
      "Classification report: \n",
      "             precision    recall  f1-score   support\n",
      "\n",
      "          0       0.79      0.92      0.85       936\n",
      "          1       0.54      0.28      0.37       314\n",
      "\n",
      "avg / total       0.73      0.76      0.73      1250\n",
      "\n"
     ]
    }
   ],
   "source": [
    "# Assess goodness of fit\n",
    "predictions_tf_sw = rfc.predict(X_test_tf_sw)\n",
    "\n",
    "rfc_score_tf_sw = rfc.score(X_test_tf_sw, y_test)\n",
    "conf_mat_tf_sw = confusion_matrix(y_test, predictions_tf_sw)\n",
    "class_rep_tf_sw = classification_report(y_test, predictions_tf_sw)\n",
    "print('RFC score: ', rfc_score_tf_sw)\n",
    "print('')\n",
    "print('Confusion matrix: ')\n",
    "print(conf_mat_tf_sw)\n",
    "print('')\n",
    "print('Classification report: ')\n",
    "print(class_rep_tf_sw)\n",
    "\n",
    "# overall accuracy is 76%\n",
    "# Precision on partisan tweets is 0.79 - 21% of neutral tweets are misclassified as partisan\n",
    "# Recall on partisan tweets is 0.28 - 72% of partisan tweets are misclassified as neutral"
   ]
  },
  {
   "cell_type": "markdown",
   "metadata": {},
   "source": [
    "### Moving forward\n",
    "\n",
    "With the remainder of your time, please try and find the best model and data transformation to predict partisan tweets. This is a challenging data set and can be approached from a number of ways.\n",
    "\n",
    "Some techniques to try are:\n",
    "\n",
    "1. Different types of data transformation \n",
    "2. Custom preprocessors for `CountVectorizer`\n",
    "3. Custom stopword lists\n",
    "4. Use of a dimensionality reduction technique (like `TruncatedSVD`)\n",
    "5. Optimizing hyperparameters using `GridSearchCV`\n",
    "6. Trying a different modeling technique such as `KNeighborsClassifier` or `LogisticRegression`"
   ]
  },
  {
   "cell_type": "code",
   "execution_count": 51,
   "metadata": {},
   "outputs": [
    {
     "name": "stdout",
     "output_type": "stream",
     "text": [
      "X_train_cv_ng shape:  (3750, 84870)\n",
      "X_test_cv_ng shape:  (1250, 84870)\n",
      "\n",
      "RFC score:  0.7608\n",
      "\n",
      "Confusion matrix: \n",
      "[[912  24]\n",
      " [275  39]]\n",
      "\n",
      "Classification report: \n",
      "             precision    recall  f1-score   support\n",
      "\n",
      "          0       0.77      0.97      0.86       936\n",
      "          1       0.62      0.12      0.21       314\n",
      "\n",
      "avg / total       0.73      0.76      0.70      1250\n",
      "\n"
     ]
    }
   ],
   "source": [
    "# Technique 1: Set CountVectorizer with an ngram_range of (1,2), giving 1- and 2-word pairs\n",
    "\n",
    "# Transform training data\n",
    "cv_ng = CountVectorizer(ngram_range=(1,2))\n",
    "\n",
    "cv_ng.fit(X_train)\n",
    "X_train_cv_ng = cv_ng.transform(X_train)\n",
    "print('X_train_cv_ng shape: ', X_train_cv_ng.shape)\n",
    "\n",
    "# Fit RandomForestClassifier\n",
    "rfc = RandomForestClassifier()\n",
    "rfc.fit(X_train_cv_ng, y_train)\n",
    "\n",
    "# Transform test data\n",
    "X_test_cv_ng = cv_ng.transform(X_test)\n",
    "print('X_test_cv_ng shape: ', X_test_cv_ng.shape)\n",
    "print('')\n",
    "\n",
    "# Assess goodness of fit\n",
    "predictions_ng = rfc.predict(X_test_cv_ng)\n",
    "\n",
    "rfc_score_ng = rfc.score(X_test_cv_ng, y_test)\n",
    "conf_mat_ng = confusion_matrix(y_test, predictions_ng)\n",
    "class_rep_ng = classification_report(y_test, predictions_ng)\n",
    "print('RFC score: ', rfc_score_ng)\n",
    "print('')\n",
    "print('Confusion matrix: ')\n",
    "print(conf_mat_ng)\n",
    "print('')\n",
    "print('Classification report: ')\n",
    "print(class_rep_ng)\n",
    "\n",
    "# overall accuracy is 76%\n",
    "# Precision on neutral tweets is 0.77 - we're misclassifying 23% of neutral tweets as partisan\n",
    "# Recall on partisan tweets is low at 0.12 - we're misclassifying 88% of partisan tweets as neutral"
   ]
  },
  {
   "cell_type": "code",
   "execution_count": 56,
   "metadata": {},
   "outputs": [
    {
     "name": "stdout",
     "output_type": "stream",
     "text": [
      "X_train_cv shape:  (3750, 15352)\n"
     ]
    },
    {
     "data": {
      "text/plain": [
       "[<matplotlib.lines.Line2D at 0x1171cf278>]"
      ]
     },
     "execution_count": 56,
     "metadata": {},
     "output_type": "execute_result"
    },
    {
     "data": {
      "image/png": "[encoded data removed]",
      "text/plain": [
       "<matplotlib.figure.Figure at 0x1176a05f8>"
      ]
     },
     "metadata": {},
     "output_type": "display_data"
    }
   ],
   "source": [
    "# Technique 2: Use the dimensionality reduction technique TruncatedSVD\n",
    "\n",
    "# Transform training data\n",
    "cv = CountVectorizer()\n",
    "\n",
    "cv.fit(X_train)\n",
    "X_train_cv = cv.transform(X_train)\n",
    "print('X_train_cv shape: ', X_train_cv.shape)\n",
    "\n",
    "# Plot explained variance ratio and look for a useful cutoff point\n",
    "tsvd = TruncatedSVD(n_components=1000)\n",
    "tsvd.fit(X_train_cv)\n",
    "plt.plot(range(1000), tsvd.explained_variance_ratio_.cumsum())\n",
    "# the rate of change begins to flatten out around 100"
   ]
  },
  {
   "cell_type": "code",
   "execution_count": 60,
   "metadata": {},
   "outputs": [
    {
     "name": "stdout",
     "output_type": "stream",
     "text": [
      "X_test_cv_tsvd shape:  (1250, 100)\n",
      "\n",
      "RFC score:  0.7256\n",
      "\n",
      "Confusion matrix: \n",
      "[[875  61]\n",
      " [282  32]]\n",
      "\n",
      "Classification report: \n",
      "             precision    recall  f1-score   support\n",
      "\n",
      "          0       0.76      0.93      0.84       936\n",
      "          1       0.34      0.10      0.16       314\n",
      "\n",
      "avg / total       0.65      0.73      0.67      1250\n",
      "\n"
     ]
    }
   ],
   "source": [
    "# Fit the training data\n",
    "tsvd = TruncatedSVD(n_components=100)\n",
    "tsvd.fit(X_train_cv)\n",
    "X_train_cv_tsvd = tsvd.transform(X_train_cv)\n",
    "\n",
    "# Fit RandomForestClassifier\n",
    "rfc = RandomForestClassifier()\n",
    "rfc.fit(X_train_cv_tsvd, y_train)\n",
    "\n",
    "# Transform test data\n",
    "X_test_cv = cv.transform(X_test)\n",
    "X_test_cv_tsvd = tsvd.transform(X_test_cv)\n",
    "print('X_test_cv_tsvd shape: ', X_test_cv_tsvd.shape)\n",
    "print('')\n",
    "\n",
    "# Assess goodness of fit\n",
    "predictions_cv_tsvd = rfc.predict(X_test_cv_tsvd)\n",
    "\n",
    "rfc_score_cv_tsvd = rfc.score(X_test_cv_tsvd, y_test)\n",
    "conf_mat_cv_tsvd = confusion_matrix(y_test, predictions_cv_tsvd)\n",
    "class_rep_cv_tsvd = classification_report(y_test, predictions_cv_tsvd)\n",
    "print('RFC score: ', rfc_score_cv_tsvd)\n",
    "print('')\n",
    "print('Confusion matrix: ')\n",
    "print(conf_mat_cv_tsvd)\n",
    "print('')\n",
    "print('Classification report: ')\n",
    "print(class_rep_cv_tsvd)\n",
    "\n",
    "# overall accuracy is 73%\n",
    "# Precision on neutral tweets is 0.76 - we're misclassifying 24% of neutral tweets as partisan\n",
    "# Recall on partisan tweets is low at 0.10 - we're misclassifying 90% of partisan tweets as neutral"
   ]
  },
  {
   "cell_type": "code",
   "execution_count": null,
   "metadata": {
    "collapsed": true
   },
   "outputs": [],
   "source": []
  }
 ],
 "metadata": {
  "kernelspec": {
   "display_name": "Python 3",
   "language": "python",
   "name": "python3"
  },
  "language_info": {
   "codemirror_mode": {
    "name": "ipython",
    "version": 3
   },
   "file_extension": ".py",
   "mimetype": "text/x-python",
   "name": "python",
   "nbconvert_exporter": "python",
   "pygments_lexer": "ipython3",
   "version": "3.6.1"
  }
 },
 "nbformat": 4,
 "nbformat_minor": 2
}
